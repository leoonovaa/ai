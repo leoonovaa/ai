{
  "cells": [
    {
      "cell_type": "markdown",
      "metadata": {
        "id": "fQcvdlwdimQb"
      },
      "source": [
        "**Оцінювання даної роботи буде ураховувати якість Вашого коду та текстових відповідей. При наявності ЛИШЕ коду , робота оцінюватися НЕ БУДЕ.**  \n",
        "\n",
        "**Оформлення текстових відповідей повинно проводитися в текстових комірках ноутбука з використанням синтаксису [LaTeX](https://en.wikibooks.org/wiki/LaTeX/Basics) для оформлення тексту та формул.**\n",
        "\n",
        "**Роботи ідентифіковані як ІДЕНТИЧНІ одразу отримують 0 балів.**\n",
        "\n",
        "**При реалізації завдань потрібно використовувати методи з бібліотеки numpy та pandas.**\n",
        "\n",
        "**Рішення з циклами будуть оцінені в 0 балів.**"
      ]
    },
    {
      "cell_type": "markdown",
      "metadata": {
        "id": "UfI7FZudfGwv"
      },
      "source": [
        "# I. NumPy."
      ]
    },
    {
      "cell_type": "markdown",
      "metadata": {
        "id": "XmA3PWg8fJxn"
      },
      "source": [
        "0. Імпортувати numpy загальноприйнятим способом."
      ]
    },
    {
      "cell_type": "code",
      "execution_count": null,
      "metadata": {
        "id": "JUli5tR8eTXG"
      },
      "outputs": [],
      "source": [
        "import numpy as np"
      ]
    },
    {
      "cell_type": "markdown",
      "metadata": {
        "id": "fppWPwoFjTrl"
      },
      "source": [
        "1. Визначити список з оцінками студента(ки) за семестр. Використовуючи його, створити одновимірний масив numpy."
      ]
    },
    {
      "cell_type": "code",
      "execution_count": null,
      "metadata": {
        "id": "cuvs9lNAjVoB"
      },
      "outputs": [],
      "source": [
        "grades = [99, 99, 97, 96, 55, 88, 64]\n",
        "\n",
        "grades_array = np.array(grades)\n",
        "print(grades)"
      ]
    },
    {
      "cell_type": "markdown",
      "metadata": {
        "id": "OGeLtAwcjcMB"
      },
      "source": [
        "2. Визначити список зі списками, де кожен рядок списку формально означає магазин, а кожна колонка - певний продукт (батон, яйця першої категорії, молоко та ковбаса), а елементами на пересічі є ціни на ці продукти відповідно. Використовуючи цей список, створити матрицю (двовимірний масив) numpy."
      ]
    },
    {
      "cell_type": "code",
      "execution_count": null,
      "metadata": {
        "id": "zJ9kEAv5jcVo"
      },
      "outputs": [],
      "source": [
        "products = [['', 'b', 'e', 'm', 's'],\n",
        "            ['n', 23, 66, 32, 54],\n",
        "            ['t', 31, 87, 21, 34],\n",
        "            ['s', 56, 74, 60, 27],\n",
        "            ['a', 19, 43, 45, 39]]\n",
        "\n",
        "products_array = np.array(products)\n",
        "print(products)"
      ]
    },
    {
      "cell_type": "markdown",
      "metadata": {
        "id": "wK7wrEw2jcix"
      },
      "source": [
        "3. Отримайте тип даних значень з масивів завдань 2 та 3. Виведіть їх на екран."
      ]
    },
    {
      "cell_type": "code",
      "execution_count": null,
      "metadata": {
        "id": "uDBL1x6vjcq9"
      },
      "outputs": [],
      "source": [
        "print(grades_array.dtype)\n",
        "print(products_array.dtype)"
      ]
    },
    {
      "cell_type": "markdown",
      "metadata": {
        "id": "nNhAgsC3jcyp"
      },
      "source": [
        "4. Отримайте форми (кортеж з кількістю рядків та колонок) масивів завдань 2 та 3. Виведіть їх на екран."
      ]
    },
    {
      "cell_type": "code",
      "execution_count": null,
      "metadata": {
        "id": "Fi5oXTI8jc4-"
      },
      "outputs": [],
      "source": [
        "print(grades_array.shape)\n",
        "print(products_array.shape)"
      ]
    },
    {
      "cell_type": "markdown",
      "metadata": {
        "id": "bpY-N8QZjdW-"
      },
      "source": [
        "5. Створіть одновимірний масив за допомогою спеціальної функції numpy, який би відображав динаміку стабільно зростаючого (з рівними проміжками) прибутку з продажів  за тиждень, де у перший день не було продажів, а в останній день тижня вдалося заробити 1000 грн 50 коп."
      ]
    },
    {
      "cell_type": "code",
      "execution_count": null,
      "metadata": {
        "id": "r3LcjnUKjdeu"
      },
      "outputs": [],
      "source": [
        "dynamics = np.linspace(0, 1000.50, 7)\n",
        "print(dynamics)"
      ]
    },
    {
      "cell_type": "markdown",
      "metadata": {
        "id": "zQM0SY9jjebO"
      },
      "source": [
        "6. Створіть два масиви. Використовуючи їх, продемонструйте відмінність вертикального та горизонтального обʼєднання масивів."
      ]
    },
    {
      "cell_type": "code",
      "execution_count": null,
      "metadata": {
        "id": "8uoi0_lxjeh-"
      },
      "outputs": [],
      "source": [
        "first_array = np.array([80, 25, 34])\n",
        "second_array = np.array([56, 72, 91])\n",
        "\n",
        "vertical_array = np.vstack((first_array, second_array))\n",
        "print(vertical_array)\n",
        "\n",
        "horizontal_array = np.hstack((first_array, second_array))\n",
        "print(horizontal_array)"
      ]
    },
    {
      "cell_type": "markdown",
      "metadata": {
        "id": "Fwh5D1pDm3t7"
      },
      "source": [
        "7. Визначити функцію, яка приймає на вході масив і транспонує його. Скористайтесь методом reshape. І не забудьте почати з docstrings."
      ]
    },
    {
      "cell_type": "code",
      "execution_count": null,
      "metadata": {
        "id": "FSWZq0mkm31Z"
      },
      "outputs": [],
      "source": [
        "def transpose_array(array):\n",
        "    \"\"\"\n",
        "    Transpose the input two-dimensional array and changing its shape.\n",
        "\n",
        "    Args:\n",
        "    array (numpy.ndarray): Input two-dimensional array.\n",
        "\n",
        "    Returns:\n",
        "    numpy.ndarray: Transposed array.\n",
        "    \"\"\"\n",
        "    \n",
        "    return array.reshape(array.shape[1], array.shape[0])\n",
        "\n",
        "matrix = np.array([[7, 4, 9],\n",
        "                   [1, 3, 8]])\n",
        "\n",
        "transposed_matrix = transpose_array(matrix)\n",
        "print(transposed_matrix)"
      ]
    },
    {
      "cell_type": "markdown",
      "metadata": {
        "id": "Nnxk8vqYm379"
      },
      "source": [
        "8. Створіть два масиви. Використовучи ці масиви, продемонструйте 1) операцію по-елементного додавання, 2) операцію по-елементного віднімання, 3) множення масиву на число, 4) операцію по-елементного множення, і 5) матричного множення."
      ]
    },
    {
      "cell_type": "code",
      "execution_count": null,
      "metadata": {
        "id": "qO1rfvmVm4BI"
      },
      "outputs": [],
      "source": [
        "first_array = np.array([80, 25, 34])\n",
        "second_array = np.array([56, 72, 91])\n",
        "\n",
        "sum_array = first_array + second_array\n",
        "print(sum_array)\n",
        "\n",
        "sub_array = first_array - second_array\n",
        "print(sub_array)\n",
        "\n",
        "scaled_array_first = first_array * 3\n",
        "print(scaled_array_first)\n",
        "\n",
        "scaled_array_second = second_array * 3\n",
        "print(scaled_array_second)\n",
        "\n",
        "mult_array = first_array * second_array\n",
        "print(mult_array)\n",
        "\n",
        "matrix_mult = first_array @ second_array\n",
        "print(matrix_mult)"
      ]
    },
    {
      "cell_type": "markdown",
      "metadata": {
        "id": "7aGdszTGuMCC"
      },
      "source": [
        "9. Створіть двовимірний масив (матрицю) та розрахуйте: 1) мінімальне число, 2) максимальне число, 3) суму чисел, 4) мінімальні числа для кожного рядка, 5) максимальні числа для кожного стовпчика."
      ]
    },
    {
      "cell_type": "code",
      "execution_count": null,
      "metadata": {
        "id": "RL_39YdauMKS"
      },
      "outputs": [],
      "source": [
        "matrix = np.array([[7, 4, 9],\n",
        "                   [1, 3, 8]])\n",
        "\n",
        "min_num = np.min(matrix)\n",
        "print(min_num)\n",
        "\n",
        "max_num = np.max(matrix)\n",
        "print(max_num)\n",
        "\n",
        "sum_num = np.sum(matrix)\n",
        "print(\"Sum of all numbers:\", sum_num)\n",
        "\n",
        "row_min_num = np.min(matrix, axis=1)\n",
        "print(row_min_num)\n",
        "\n",
        "column_max_num = np.max(matrix, axis=0)\n",
        "print(column_max_num)"
      ]
    },
    {
      "cell_type": "markdown",
      "metadata": {
        "id": "c_hNdOpjHRFo"
      },
      "source": [
        "10. Створіть матрицю , де деякі елементи повторюються. Знайдіть унікальні значення елементів цієї матриці та їхні частоти."
      ]
    },
    {
      "cell_type": "code",
      "execution_count": null,
      "metadata": {},
      "outputs": [],
      "source": [
        "matrix = np.array([[7, 4, 9],\n",
        "                   [1, 3, 8]])\n",
        "\n",
        "unique_value, frequencies = np.unique(matrix, return_counts=True)\n",
        "print(unique_value)\n",
        "print(frequencies)"
      ]
    },
    {
      "cell_type": "markdown",
      "metadata": {
        "id": "Usj7tyjnprEV"
      },
      "source": [
        "# II. Importing. Creating DF"
      ]
    },
    {
      "cell_type": "markdown",
      "metadata": {
        "id": "ePGNrYa6pxRY"
      },
      "source": [
        "0. Імпортувати бібліотеку pandas"
      ]
    },
    {
      "cell_type": "code",
      "execution_count": null,
      "metadata": {
        "id": "KIPDNBqQpvkI"
      },
      "outputs": [],
      "source": [
        "import pandas as pd"
      ]
    },
    {
      "cell_type": "markdown",
      "metadata": {
        "id": "8g9-hgi5qWJv"
      },
      "source": [
        "11. Створити тестовий датафрейм зі списку, що містить записи пацієнтів про їхні прізвища, імена, дату народження, масу тіла та наявність медичного страхування. Одне зі значень зробить пустим. Ознайомтесь з типом кожної колонки."
      ]
    },
    {
      "cell_type": "code",
      "execution_count": null,
      "metadata": {
        "id": "OvA4GvJ5qYb1"
      },
      "outputs": [],
      "source": [
        "data = [[\"Smith\", \"Eva\", \"24.08.2006\", 49.2, True],\n",
        "        [\"Miller\", \"Emily\", \"15.02.2006\", 78.2, False],\n",
        "        [\"Johnson\", \"James\", \"23.07.1995\", None, True]]\n",
        "\n",
        "df = pd.DataFtame(data, columns=[\"Last Name\", \"First Name\", \"Date of Birth\", \"Body Weight\", \"Health Insurance\"])"
      ]
    },
    {
      "cell_type": "code",
      "execution_count": null,
      "metadata": {
        "id": "9ioPRVvxqcQ7"
      },
      "outputs": [],
      "source": [
        "print(df.dtypes)\n",
        "print(df)"
      ]
    },
    {
      "cell_type": "markdown",
      "metadata": {
        "id": "b1SvVHjjqcv-"
      },
      "source": [
        "# III. Reading from file"
      ]
    },
    {
      "cell_type": "markdown",
      "metadata": {
        "id": "7HhZWLs_qhgq"
      },
      "source": [
        "12. Завантажити файл missile_attacks_daily.csv з [Kaggle](https://www.kaggle.com/datasets/piterfm/massive-missile-attacks-on-ukraine?select=missile_attacks_daily.csv). Ознайомитись з описом датасету. Додати файл до папки поточної сесії colab notebook на панелі ліворуч або на гугл диск (локально до проєкту, якщо працюєте у пайчармі). Зчитати датафрейм з файлу та вивести датафрейм на екран. Зверніть увагу на те, щоб всі колонки відповідали наведеним у описі типам даних."
      ]
    },
    {
      "cell_type": "code",
      "execution_count": null,
      "metadata": {
        "id": "oQcB3kIqqg0h"
      },
      "outputs": [],
      "source": [
        "file_path = \"/Users/irinaleonova/Desktop/missile_attacks_daily.csv\"\n",
        "\n",
        "df = pd.read_csv(file_path)\n",
        "print(df.head())"
      ]
    },
    {
      "cell_type": "markdown",
      "metadata": {
        "id": "89zu0WNErzd2"
      },
      "source": [
        "# IV. Data understanding"
      ]
    },
    {
      "cell_type": "markdown",
      "metadata": {
        "id": "LJqrTfHr2d1G"
      },
      "source": [
        "13. Виведіть на екран перші 10 рядків зчитаного датафрейму."
      ]
    },
    {
      "cell_type": "code",
      "execution_count": null,
      "metadata": {
        "id": "GdVE9WYwr1sD"
      },
      "outputs": [],
      "source": [
        "print(df.head(10))"
      ]
    },
    {
      "cell_type": "markdown",
      "metadata": {
        "id": "1PtkLHWj2lq0"
      },
      "source": [
        "14. Отримайте інформацію про форму датафрейму."
      ]
    },
    {
      "cell_type": "code",
      "execution_count": null,
      "metadata": {
        "id": "CBPTYTjV2mtG"
      },
      "outputs": [],
      "source": [
        "print(df.shape)"
      ]
    },
    {
      "cell_type": "markdown",
      "metadata": {
        "id": "GDVcFC6F2yVz"
      },
      "source": [
        "15. Отримайте дані про кожну колонку з її назвою, типом даних та кількістю непустих значень."
      ]
    },
    {
      "cell_type": "code",
      "execution_count": null,
      "metadata": {
        "id": "GTRgfKJ920bn"
      },
      "outputs": [],
      "source": [
        "print(df.info())"
      ]
    },
    {
      "cell_type": "markdown",
      "metadata": {
        "id": "DEy-hgsw2452"
      },
      "source": [
        "16. Отримайте статистику для колонок числового типу."
      ]
    },
    {
      "cell_type": "code",
      "execution_count": null,
      "metadata": {
        "id": "94mI2N9t267Q"
      },
      "outputs": [],
      "source": [
        "print(df.describe())"
      ]
    },
    {
      "cell_type": "markdown",
      "metadata": {
        "id": "n0MGJU2C2-iD"
      },
      "source": [
        "17. Отримати кількість унікальних значень у кожній колонці. Вивести на екран значення та кількість цих значень у колонці, яка має найменше унікальних значень."
      ]
    },
    {
      "cell_type": "code",
      "execution_count": null,
      "metadata": {
        "id": "lQh_jdGe3BK5"
      },
      "outputs": [],
      "source": [
        "unique_counts = df.nunique()\n",
        "print(unique_counts)\n",
        "\n",
        "min_unique_column = unique_counts.idxmin()\n",
        "print(df[min_unique_column].value_counts())"
      ]
    },
    {
      "cell_type": "markdown",
      "metadata": {
        "id": "iVRkzUti3uC_"
      },
      "source": [
        "18. На основі отриманої інформації про датасет вище, опишіть по пунктах, що б ви виправили або на що б звернули увагу на кроці очищення даних і чому?"
      ]
    },
    {
      "cell_type": "markdown",
      "metadata": {
        "id": "9_Q-Fcuo30zY"
      },
      "source": [
        "**місце для текстової відповіді**\n",
        "\n",
        "1.   delete duplicate lines\n",
        "2.   replace missing values ​​or delete rows\n",
        "\n",
        "...\n"
      ]
    },
    {
      "cell_type": "markdown",
      "metadata": {
        "id": "Ue9ECz5-3_pq"
      },
      "source": [
        "# V. Data Cleaning"
      ]
    },
    {
      "cell_type": "markdown",
      "metadata": {
        "id": "ZtHUiSrV4CL-"
      },
      "source": [
        "19. Перетворити колонку launched у цілочислену (Int64). Перевірити, чи все пройшло, як очікувалось."
      ]
    },
    {
      "cell_type": "code",
      "execution_count": null,
      "metadata": {
        "id": "AWyo_-Un3xqz"
      },
      "outputs": [],
      "source": [
        "df['launched'] = df['launched'].astype('Int64')\n",
        "\n",
        "print(df.dtypes)\n",
        "print(df['launched'].head(10))"
      ]
    },
    {
      "cell_type": "markdown",
      "metadata": {
        "id": "KsHhM4EM4O3d"
      },
      "source": [
        "20. Видалити колонки, де кількість непустих значень становить менше 30% від загальної кількості записів."
      ]
    },
    {
      "cell_type": "code",
      "execution_count": null,
      "metadata": {
        "id": "Z1ZCclle4Vyk"
      },
      "outputs": [],
      "source": [
        "threshold = 0.3 * len(df)\n",
        "df = df.dropna(axis=1, thresh=threshold)\n",
        "\n",
        "print(df.columns)"
      ]
    },
    {
      "cell_type": "markdown",
      "metadata": {
        "id": "p8cD0M0U4cNT"
      },
      "source": [
        "21. Очистити датафрейм від дублікатів (дублюючихся рядків) та записів, де атака продовжувалась відʼємну або нульову кількість часу (що фізично неможливо). Не забудьте оновити індекс. Скільки рядків було видалено? Як ви це перевірили у коді?"
      ]
    },
    {
      "cell_type": "code",
      "execution_count": null,
      "metadata": {
        "id": "in3Fvn0I4l-I"
      },
      "outputs": [],
      "source": [
        "df_cleaned = df.drop_duplicates()\n",
        "df_cleaned = df_cleaned[df_cleaned['attack_duration'] > 0]\n",
        "df_cleaned.reset_index(drop=True, inplace=True)\n",
        "deleted_rows = len(df) - len(df_cleaned)\n",
        "print(f\"Number of deleted lines: {deleted_rows}\")\n",
        "print(df_cleaned)"
      ]
    },
    {
      "cell_type": "markdown",
      "metadata": {
        "id": "8zqL82Ie4nqY"
      },
      "source": [
        "**місце для текстової відповіді**"
      ]
    },
    {
      "cell_type": "code",
      "execution_count": null,
      "metadata": {
        "id": "GoHlOjXj4sIw"
      },
      "outputs": [],
      "source": [
        "this dataset has no duplicates and no column containing the word \"duration\""
      ]
    },
    {
      "cell_type": "markdown",
      "metadata": {
        "id": "6oZ7C_ry4uvb"
      },
      "source": [
        "22. Виведіть на екран всі рядки, де є хоч одне пропущене значення."
      ]
    },
    {
      "cell_type": "code",
      "execution_count": null,
      "metadata": {
        "id": "BPmCTDtg4wVS"
      },
      "outputs": [],
      "source": [
        "missing_value = df[df.isnull().any(axis=1)]\n",
        "print(missing_value)"
      ]
    }
  ],
  "metadata": {
    "colab": {
      "collapsed_sections": [
        "dwSyU2AjXwc-"
      ],
      "provenance": []
    },
    "kernelspec": {
      "display_name": "Python 3",
      "name": "python3"
    },
    "language_info": {
      "name": "python",
      "version": "3.13.2"
    }
  },
  "nbformat": 4,
  "nbformat_minor": 0
}
